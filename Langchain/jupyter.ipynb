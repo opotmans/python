{
 "cells": [
  {
   "cell_type": "code",
   "execution_count": 5,
   "metadata": {},
   "outputs": [],
   "source": [
    "from langchain_ollama import OllamaLLM\n",
    "from langchain_core.prompts import ChatPromptTemplate"
   ]
  },
  {
   "cell_type": "code",
   "execution_count": 6,
   "metadata": {},
   "outputs": [],
   "source": [
    "llm = OllamaLLM(\n",
    "    model=\"dolphin-mistral:latest\",\n",
    "    temperature=0.7,\n",
    "    num_predict = 256,\n",
    "    )\n",
    "\n",
    "prompt = ChatPromptTemplate.from_messages ([\n",
    "    (\"system\", \"you are a specialist in History\"),\n",
    "    (\"human\", \"{input}\"),\n",
    "]\n",
    ")\n",
    "\n",
    "chain = prompt | llm\n"
   ]
  },
  {
   "cell_type": "markdown",
   "metadata": {},
   "source": [
    "** Premier test pour répondre à une question"
   ]
  },
  {
   "cell_type": "code",
   "execution_count": 9,
   "metadata": {},
   "outputs": [
    {
     "name": "stdout",
     "output_type": "stream",
     "text": [
      " La couleur d'un cheval blanc n'est pas directement liée à Napoléon. Cependant, l'un des chevaux célèbres de Napoléon s'appelait Marengo, mais il était noir et gris. Il existe cependant un mythe selon lequel une énorme race de chevaux blancs appartenant à la famille impériale française aurait été créée sous le Premier Empire français pour représenter le prestige du pays. Cependant, aucune source historique ne confirme cette rumeur. Le cheval blanc les plus célèbres sont probablement ceux d'Alexandre le Grand, dont Bucephale et Incitatus.\n",
      "\n",
      "Napoléon apprécie beaucoup les chevaux et il a eu plusieurs autres montures réputées. Cependant, aucun de ces chevaux n'était blanc.\n"
     ]
    }
   ],
   "source": [
    "response = chain.invoke ({\n",
    "    \"input\": \"Quelle est la couleur du cheval blanc de Napoléon\"\n",
    "    })\n",
    "print (response)"
   ]
  }
 ],
 "metadata": {
  "kernelspec": {
   "display_name": "Python 3",
   "language": "python",
   "name": "python3"
  },
  "language_info": {
   "codemirror_mode": {
    "name": "ipython",
    "version": 3
   },
   "file_extension": ".py",
   "mimetype": "text/x-python",
   "name": "python",
   "nbconvert_exporter": "python",
   "pygments_lexer": "ipython3",
   "version": "3.12.7"
  }
 },
 "nbformat": 4,
 "nbformat_minor": 2
}
